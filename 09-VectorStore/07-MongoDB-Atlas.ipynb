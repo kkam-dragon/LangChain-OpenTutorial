{
  "cells": [
    {
      "cell_type": "markdown",
      "id": "635d8ebb",
      "metadata": {},
      "source": [
        "# MongoDB Atlas\n",
        "\n",
        "- Author: [Ivy Bae](https://github.com/ivybae)\n",
        "- Peer Review :\n",
        "- This is a part of [LangChain Open Tutorial](https://github.com/LangChain-OpenTutorial/LangChain-OpenTutorial)\n",
        "\n",
        "[![Open in Colab](https://colab.research.google.com/assets/colab-badge.svg)](https://colab.research.google.com/github/LangChain-OpenTutorial/LangChain-OpenTutorial/blob/main/09-VectorStore/07-MongoDB.ipynb) [![Open in GitHub](https://img.shields.io/badge/Open%20in%20GitHub-181717?style=flat-square&logo=github&logoColor=white)](https://github.com/LangChain-OpenTutorial/LangChain-OpenTutorial/blob/main/09-VectorStore/07-MongoDB.ipynb)\n",
        "\n",
        "## Overview\n",
        "\n",
        "This tutorial covers the initial setup process for users who are new to **MongoDB Atlas**.\n",
        "\n",
        "If you're already familiar with **MongoDB Atlas**, you can skip the [Initialization](#initialization) section.\n",
        "\n",
        "All examples run on a free cluster, and once you add a **collection** to your database, you'll be ready to start.\n",
        "\n",
        "You’ll learn preprocessing to preserve document structure after loading data from a **The Little Prince** file, how to add and delete documents to a **collection**, and manage vector store.\n",
        "\n",
        "Once the documents added, you can learn how to query your data using **semantic search**, index updates for **filtering**, and **MQL operators**.\n",
        "\n",
        "By the end of this tutorial, you'll be able to integrate **PyMongo with LangChain** and use VectorStore.\n",
        "\n",
        "### Table of Contents\n",
        "\n",
        "- [Overview](#overview)\n",
        "- [Environement Setup](#environment-setup)\n",
        "- [Initialization](#initialization)\n",
        "- [Atlas Vector Search Indexes](#atlas-vector-search-indexes)\n",
        "- [Vector Store](#vector-store)\n",
        "- [Load Data](#load-data)\n",
        "- [Data Preprocessing](#data-preprocessing)\n",
        "- [Manage vector store](#manage-vector-store)\n",
        "- [Query vector store](#query-vector-store)\n",
        "- [CRUD Operations with PyMongo](#crud-operations-with-pymongo)\n",
        "\n",
        "### References\n",
        "\n",
        "- [Get Started with Atlas](https://www.mongodb.com/docs/atlas/getting-started/)\n",
        "- [Deploy a Free Cluster](https://www.mongodb.com/docs/atlas/tutorial/deploy-free-tier-cluster/)\n",
        "- [Connection Strings](https://www.mongodb.com/docs/manual/reference/connection-string/)\n",
        "- [Atlas Search and Vector Search Indexes](https://www.mongodb.com/docs/languages/python/pymongo-driver/current/indexes/atlas-search-index/)\n",
        "- [Review Atlas Search Index Syntax](https://www.mongodb.com/docs/atlas/atlas-search/index-definitions/)\n",
        "- [JSON and BSON](https://www.mongodb.com/resources/basics/json-and-bson)\n",
        "- [Write Data to MongoDB](https://www.mongodb.com/docs/languages/python/pymongo-driver/current/write-operations/)\n",
        "- [Read Data from MongoDB](https://www.mongodb.com/docs/languages/python/pymongo-driver/current/read/)\n",
        "- [Query Filter Documents](https://www.mongodb.com/docs/manual/core/document/#query-filter-documents)\n",
        "- [Update Operators](https://www.mongodb.com/docs/manual/reference/operator/update/)\n",
        "- [Integrate Atlas Vector Search with LangChain](https://www.mongodb.com/docs/atlas/atlas-vector-search/ai-integrations/langchain/)\n",
        "- [Get Started with the LangChain Integration](https://www.mongodb.com/docs/atlas/atlas-vector-search/ai-integrations/langchain/get-started/)\n",
        "- [Comparison Query Operators](https://www.mongodb.com/docs/manual/reference/operator/query-comparison/)\n",
        "- [MongoDB Atlas](https://python.langchain.com/docs/integrations/vectorstores/mongodb_atlas/)\n",
        "- [Document loaders](https://python.langchain.com/docs/concepts/document_loaders/)\n",
        "- [Text splitters](https://python.langchain.com/docs/concepts/text_splitters/)\n",
        "\n",
        "---\n"
      ]
    },
    {
      "cell_type": "markdown",
      "id": "c6c7aba4",
      "metadata": {},
      "source": [
        "## Environment Setup\n",
        "\n",
        "Set up the environment. You may refer to [Environment Setup](https://wikidocs.net/257836) for more details.\n",
        "\n",
        "**[Note]**\n",
        "\n",
        "- `langchain-opentutorial` is a package that provides a set of easy-to-use environment setup, useful functions and utilities for tutorials.\n",
        "- You can checkout the [`langchain-opentutorial`](https://github.com/LangChain-OpenTutorial/langchain-opentutorial-pypi) for more details.\n"
      ]
    },
    {
      "cell_type": "code",
      "execution_count": 1,
      "id": "21943adb",
      "metadata": {},
      "outputs": [],
      "source": [
        "%%capture --no-stderr\n",
        "%pip install langchain-opentutorial"
      ]
    },
    {
      "cell_type": "code",
      "execution_count": 2,
      "id": "f25ec196",
      "metadata": {},
      "outputs": [
        {
          "name": "stderr",
          "output_type": "stream",
          "text": [
            "\n",
            "\u001b[1m[\u001b[0m\u001b[34;49mnotice\u001b[0m\u001b[1;39;49m]\u001b[0m\u001b[39;49m A new release of pip is available: \u001b[0m\u001b[31;49m24.1\u001b[0m\u001b[39;49m -> \u001b[0m\u001b[32;49m24.3.1\u001b[0m\n",
            "\u001b[1m[\u001b[0m\u001b[34;49mnotice\u001b[0m\u001b[1;39;49m]\u001b[0m\u001b[39;49m To update, run: \u001b[0m\u001b[32;49mpip install --upgrade pip\u001b[0m\n"
          ]
        }
      ],
      "source": [
        "# Install required packages\n",
        "from langchain_opentutorial import package\n",
        "\n",
        "package.install(\n",
        "    [\n",
        "        \"langchain_openai\",\n",
        "        \"langsmith\",\n",
        "        \"langchain_core\",\n",
        "        \"langchain_community\",\n",
        "        \"langchain-mongodb\",\n",
        "        \"pymongo\",\n",
        "        \"certifi\",\n",
        "    ],\n",
        "    verbose=False,\n",
        "    upgrade=False,\n",
        ")"
      ]
    },
    {
      "cell_type": "code",
      "execution_count": 3,
      "id": "1caacc00",
      "metadata": {},
      "outputs": [
        {
          "name": "stdout",
          "output_type": "stream",
          "text": [
            "Environment variables have been set successfully.\n"
          ]
        }
      ],
      "source": [
        "# Set environment variables\n",
        "from langchain_opentutorial import set_env\n",
        "\n",
        "set_env(\n",
        "    {\n",
        "        \"OPENAI_API_KEY\": \"\",\n",
        "        \"LANGCHAIN_API_KEY\": \"\",\n",
        "        \"MONGODB_ATLAS_CLUSTER_URI\": \"\",\n",
        "        \"LANGCHAIN_TRACING_V2\": \"true\",\n",
        "        \"LANGCHAIN_ENDPOINT\": \"https://api.smith.langchain.com\",\n",
        "        \"LANGCHAIN_PROJECT\": \"07-MongoDB-Atlas\",\n",
        "    }\n",
        ")"
      ]
    },
    {
      "cell_type": "markdown",
      "id": "311ebf6d",
      "metadata": {},
      "source": [
        "You can alternatively set API keys such as `OPENAI_API_KEY` in a `.env` file and load them.\n",
        "\n",
        "[Note] This is not necessary if you've already set the required API keys in previous steps.\n",
        "\n",
        "`MONGODB_ATLAS_CLUSTER_URI` is required to use **MongoDB Atlas** and is explained in the [Connect to your cluster](#connect-to-your-cluster).\n",
        "\n",
        "If you are already using **MongoDB Atlas**, you can set the cluster **connection string** to `MONGODB_ATLAS_CLUSTER_URI` in your `.env` file.\n"
      ]
    },
    {
      "cell_type": "code",
      "execution_count": 4,
      "id": "c394720f",
      "metadata": {},
      "outputs": [
        {
          "data": {
            "text/plain": [
              "True"
            ]
          },
          "execution_count": 4,
          "metadata": {},
          "output_type": "execute_result"
        }
      ],
      "source": [
        "# Load API keys from .env file\n",
        "from dotenv import load_dotenv\n",
        "\n",
        "load_dotenv(override=True)"
      ]
    },
    {
      "cell_type": "markdown",
      "id": "aa00c3f4",
      "metadata": {},
      "source": [
        "## Initialization\n",
        "\n",
        "[MongoDB Atlas](https://www.mongodb.com/en/atlas) is a multi-cloud database service that provides an easy way to host and manage your data in the cloud.\n",
        "\n",
        "After you register with and log in to **Atlas**, you can create a Free cluster.\n",
        "\n",
        "**Atlas** can be started with [Atlas CLI](https://www.mongodb.com/docs/atlas/cli/current/atlas-cli-getting-started/) or **Atlas UI**.\n",
        "\n",
        "**Atlas CLI** can be difficult to use if you're not used to working with development tools, so this tutorial will walk you through how to use **Atlas UI**.\n",
        "\n",
        "### Deploy a cluster\n",
        "\n",
        "Please select the appropriate project in your **Organization**. If the project doesn't exist, you'll need to create it.\n",
        "\n",
        "If you select a project, you can create a cluster.\n",
        "\n",
        "![mongodb-atlas-project](./assets/07-mongodb-atlas-initialization-01.png)\n",
        "\n",
        "Follow the procedure below to deploy a cluster\n",
        "\n",
        "- select **Cluster**: **M0** Free cluster option\n",
        "\n",
        "> Note: You can deploy only one Free cluster per Atlas project\n",
        "\n",
        "- select **Provider**: **M0** on AWS, GCP, and Azure\n",
        "\n",
        "- select **Region**\n",
        "\n",
        "- create a database user and add your IP address settings.\n",
        "\n",
        "After you deploy a cluster, you can see the cluster you deployed as shown in the image below.\n",
        "\n",
        "![mongodb-atlas-cluster-deploy](./assets/07-mongodb-atlas-initialization-02.png)\n"
      ]
    },
    {
      "cell_type": "markdown",
      "id": "35618384",
      "metadata": {},
      "source": [
        "### Connect to your cluster\n",
        "\n",
        "Click **Get connection string** in the image above to get the cluster URI and set the value of `MONGODB_ATLAS_CLUSTER_URI` in the `.env` file.\n",
        "\n",
        "The **connection string** resembles the following example:\n",
        "\n",
        "> mongodb+srv://[databaseUser]:[databasePassword]@[clusterName].[hostName].mongodb.net/?retryWrites=true&w=majority\n",
        "\n",
        "Then go back to the [Environment Setup](#environment-setup) and run the `load_dotenv` function again.\n"
      ]
    },
    {
      "cell_type": "markdown",
      "id": "037183c7",
      "metadata": {},
      "source": [
        "### Initialize MongoDB python client\n",
        "\n",
        "To integrate with LangChain, you need to connect to the cluster using [PyMongo](https://github.com/mongodb/mongo-python-driver), the MongoDB python driver.\n"
      ]
    },
    {
      "cell_type": "code",
      "execution_count": 5,
      "id": "0980874c",
      "metadata": {},
      "outputs": [],
      "source": [
        "import os\n",
        "import certifi\n",
        "from pymongo import MongoClient\n",
        "\n",
        "MONGODB_ATLAS_CLUSTER_URI = os.getenv(\"MONGODB_ATLAS_CLUSTER_URI\")\n",
        "client = MongoClient(MONGODB_ATLAS_CLUSTER_URI, tlsCAFile=certifi.where())"
      ]
    },
    {
      "cell_type": "markdown",
      "id": "727a7ee7",
      "metadata": {},
      "source": [
        "### Initialize database and collection\n",
        "\n",
        "A **MongoDB database** stores a collections of documents.\n"
      ]
    },
    {
      "cell_type": "code",
      "execution_count": 6,
      "id": "a8d50742",
      "metadata": {},
      "outputs": [],
      "source": [
        "DB_NAME = \"langchain-opentutorial-db\"\n",
        "COLLECTION_NAME = \"little-prince\"\n",
        "\n",
        "database = client[DB_NAME]\n",
        "collection_names = database.list_collection_names()\n",
        "if COLLECTION_NAME not in collection_names:\n",
        "    collection = database.create_collection(COLLECTION_NAME)\n",
        "else:\n",
        "    collection = database[COLLECTION_NAME]"
      ]
    },
    {
      "cell_type": "markdown",
      "id": "555e1b13",
      "metadata": {},
      "source": [
        "You can **browse collections** to see the **little-prince** collection you just created and the sample data provided by Atlas.\n",
        "\n",
        "- [available sample datasets](https://www.mongodb.com/docs/atlas/sample-data/#std-label-available-sample-datasets)\n",
        "\n",
        "![mongodb-atlas-collection](./assets/07-mongodb-atlas-database.png)\n",
        "\n",
        "In this tutorial, we will use the **little-prince** collection in the **langchain-opentutorial-db** database.\n"
      ]
    },
    {
      "cell_type": "markdown",
      "id": "afe1765d",
      "metadata": {},
      "source": [
        "## Atlas Vector Search Indexes\n",
        "\n",
        "When performing vector search in Atlas, you must create an **Atlas Vector Search Index**.\n"
      ]
    },
    {
      "cell_type": "markdown",
      "id": "15a60109",
      "metadata": {},
      "source": [
        "### Retrieve a Search Index\n",
        "\n",
        "- `list_search_indexes` : check if a **Search Index** with the same name exists.\n"
      ]
    },
    {
      "cell_type": "code",
      "execution_count": 7,
      "id": "c59ed9cc",
      "metadata": {},
      "outputs": [],
      "source": [
        "def is_index_exists(collection, index_name):\n",
        "    search_indexes = collection.list_search_indexes()\n",
        "    index_names = [search_index[\"name\"] for search_index in search_indexes]\n",
        "    return index_name in index_names"
      ]
    },
    {
      "cell_type": "markdown",
      "id": "afa709d7",
      "metadata": {},
      "source": [
        "### Create a Search Index or Vector Search Index\n",
        "\n",
        "You can define **Atlas Search Index** or **Atlas Vector Search Index** using `SearchIndexModel` object.\n",
        "\n",
        "- `definition` : define the **Search Index**.\n",
        "\n",
        "- `name` : query the **Search Index** by name.\n",
        "\n",
        "To learn more about `definition` of `SearchIndexModel` , see [Review Atlas Search Index Syntax](https://www.mongodb.com/docs/atlas/atlas-search/index-definitions/).\n"
      ]
    },
    {
      "cell_type": "code",
      "execution_count": 8,
      "id": "b7595e95",
      "metadata": {},
      "outputs": [],
      "source": [
        "from pymongo.operations import SearchIndexModel\n",
        "\n",
        "TEST_SEARCH_INDEX_NAME = \"test_search_index\"\n",
        "TEST_VECTOR_SEARCH_INDEX_NAME = \"test_vector_index\"\n",
        "\n",
        "search_index = SearchIndexModel(\n",
        "    definition={\n",
        "        \"mappings\": {\"dynamic\": True},\n",
        "    },\n",
        "    name=TEST_SEARCH_INDEX_NAME,\n",
        ")\n",
        "\n",
        "vector_index = SearchIndexModel(\n",
        "    definition={\n",
        "        \"fields\": [\n",
        "            {\n",
        "                \"type\": \"vector\",\n",
        "                \"numDimensions\": 1536,\n",
        "                \"path\": \"embedding\",\n",
        "                \"similarity\": \"cosine\",\n",
        "            }\n",
        "        ]\n",
        "    },\n",
        "    name=TEST_VECTOR_SEARCH_INDEX_NAME,\n",
        "    type=\"vectorSearch\",\n",
        ")"
      ]
    },
    {
      "cell_type": "markdown",
      "id": "8d8a0739",
      "metadata": {},
      "source": [
        "- `create_search_index` : create a single **Atlas Search Index** or **Atlas Vector Search Index**.\n",
        "\n",
        "- `create_search_indexes` : create multiple indexes.\n"
      ]
    },
    {
      "cell_type": "code",
      "execution_count": 9,
      "id": "5836f618",
      "metadata": {},
      "outputs": [],
      "source": [
        "def create_index(collection, index_name, model):\n",
        "    if not is_index_exists(collection, index_name):\n",
        "        collection.create_search_index(model)\n",
        "\n",
        "\n",
        "create_index(collection, TEST_SEARCH_INDEX_NAME, search_index)\n",
        "create_index(collection, TEST_VECTOR_SEARCH_INDEX_NAME, vector_index)"
      ]
    },
    {
      "cell_type": "markdown",
      "id": "03ad5b54",
      "metadata": {},
      "source": [
        "Click the **Atlas Search tab** to see the search indexes that you created.\n",
        "\n",
        "![mongodb-atlas-search-index](./assets/07-mongodb-atlas-search-index-01.png)\n"
      ]
    },
    {
      "cell_type": "markdown",
      "id": "dd0dbcff",
      "metadata": {},
      "source": [
        "### Update a Search Index\n",
        "\n",
        "- `update_search_index` : update an **Atlas Search Index** or **Atlas Vector Search Index**.\n"
      ]
    },
    {
      "cell_type": "code",
      "execution_count": 10,
      "id": "e39d0c0d",
      "metadata": {},
      "outputs": [],
      "source": [
        "new_vector_index = {\n",
        "    \"fields\": [\n",
        "        {\n",
        "            \"type\": \"vector\",\n",
        "            \"numDimensions\": 1536,\n",
        "            \"path\": \"embedding\",\n",
        "            \"similarity\": \"euclidean\",\n",
        "        }\n",
        "    ]\n",
        "}\n",
        "\n",
        "collection.update_search_index(\n",
        "    name=TEST_VECTOR_SEARCH_INDEX_NAME, definition=new_vector_index\n",
        ")"
      ]
    },
    {
      "cell_type": "markdown",
      "id": "a15d2c89",
      "metadata": {},
      "source": [
        "If the update is successful, click **test_vector_index** in the list of **Index Name** on the **Atlas Search tab** to see more information.\n",
        "\n",
        "You can see that the **Similarity Method** for the **Vector Field** has changed to **euclidean**.\n",
        "\n",
        "![mongodb-atlas-update-search-index](./assets/07-mongodb-atlas-search-index-02.png)\n",
        "\n",
        "You can also click the **Edit Index Definition** button on the right side of the **Atlas UI** to update it.\n"
      ]
    },
    {
      "cell_type": "markdown",
      "id": "7358d272",
      "metadata": {},
      "source": [
        "### Delete a Search Index\n",
        "\n",
        "- `drop_search_index` : remove an **Atlas Search Index** or **Atlas Vector Search Index**.\n"
      ]
    },
    {
      "cell_type": "code",
      "execution_count": 11,
      "id": "4347f291",
      "metadata": {},
      "outputs": [],
      "source": [
        "def delete_index(collection, index_name):\n",
        "    if is_index_exists(collection, index_name):\n",
        "        collection.drop_search_index(index_name)\n",
        "\n",
        "\n",
        "delete_index(collection, TEST_SEARCH_INDEX_NAME)\n",
        "delete_index(collection, TEST_VECTOR_SEARCH_INDEX_NAME)"
      ]
    },
    {
      "cell_type": "markdown",
      "id": "66bb53c4",
      "metadata": {},
      "source": [
        "## Vector Store\n",
        "\n",
        "Create a vector store using `MongoDBAtlasVectorSearch` .\n",
        "\n",
        "- `collection` : documents to store in the vector database\n",
        "\n",
        "- `embedding` : use OpenAI `text-embedding-3-small` model\n",
        "\n",
        "- `index_name` : index to use when querying the vector store.\n"
      ]
    },
    {
      "cell_type": "code",
      "execution_count": 12,
      "id": "e2c12a0c",
      "metadata": {},
      "outputs": [],
      "source": [
        "from langchain_openai import OpenAIEmbeddings\n",
        "from langchain_mongodb import MongoDBAtlasVectorSearch\n",
        "\n",
        "TUTORIAL_VECTOR_SEARCH_INDEX_NAME = \"langchain-opentutorial-index\"\n",
        "\n",
        "embeddings = OpenAIEmbeddings(model=\"text-embedding-3-small\")\n",
        "\n",
        "vector_store = MongoDBAtlasVectorSearch(\n",
        "    collection=collection,\n",
        "    embedding=embeddings,\n",
        "    index_name=TUTORIAL_VECTOR_SEARCH_INDEX_NAME,\n",
        "    relevance_score_fn=\"cosine\",\n",
        ")"
      ]
    },
    {
      "cell_type": "markdown",
      "id": "ceee7409",
      "metadata": {},
      "source": [
        "### Create a Index\n",
        "\n",
        "- `create_vector_search_index` : Alternative to the above [Create a Search Index or Vector Search Index](#create-a-search-index-or-vector-search-index) section that creates a Vector Search Index.\n"
      ]
    },
    {
      "cell_type": "code",
      "execution_count": 13,
      "id": "6cea0889",
      "metadata": {},
      "outputs": [],
      "source": [
        "if not is_index_exists(collection, TUTORIAL_VECTOR_SEARCH_INDEX_NAME):\n",
        "    vector_store.create_vector_search_index(dimensions=1536)"
      ]
    },
    {
      "cell_type": "markdown",
      "id": "3ab3c4cb",
      "metadata": {},
      "source": [
        "Click the **Atlas Search tab** to see the search index **langchain-opentutorial-index** that you created.\n",
        "\n",
        "![mongodb-atlas-vector-search-index](./assets/07-mongodb-atlas-search-index-03.png)\n"
      ]
    },
    {
      "cell_type": "markdown",
      "id": "1f35bcf1",
      "metadata": {},
      "source": [
        "## Load Data\n",
        "\n",
        "LangChain provides **Document loaders** that can load a variety of data sources.\n",
        "\n",
        "### Document loaders\n",
        "\n",
        "In this tutorial, we'll use `TextLoader` to add data from the **the_little_prince.txt** in the data directory to the **little-prince** collection.\n"
      ]
    },
    {
      "cell_type": "code",
      "execution_count": 14,
      "id": "1824e39a",
      "metadata": {},
      "outputs": [],
      "source": [
        "from langchain_community.document_loaders import TextLoader\n",
        "\n",
        "loader = TextLoader(\"./data/the_little_prince.txt\", encoding=\"utf-8\")\n",
        "documents = loader.load()"
      ]
    },
    {
      "cell_type": "markdown",
      "id": "d878d78e",
      "metadata": {},
      "source": [
        "If you are working with large datasets, you can use `lazy_load` instead of the `load` method.\n",
        "\n",
        "The `load` method returns **List[Document]**, so let's check for the first **Document** object.\n",
        "\n",
        "- `metadata` : data associated with content\n",
        "\n",
        "- `page_content` : string text\n",
        "\n",
        "If you open the file **the_little_prince.txt** and compare the contents of the `page_content` , they are the same.\n"
      ]
    },
    {
      "cell_type": "markdown",
      "id": "2ab6a256",
      "metadata": {},
      "source": [
        "## Data Preprocessing\n",
        "\n",
        "### Preserving text file structure\n",
        "\n",
        "In the [Document loaders](#document-loaders) section above, `page_content` has all the text in the file assigned to it.\n",
        "\n",
        "To preserve the structure of the text file, let's modify it to **split the file into chapters.**\n",
        "\n",
        "**the_little_prince.txt** used **[ Chapter X ]** as a delimiter to separate the chapters.\n",
        "\n",
        "- Create a `Document` by `chapter` .\n",
        "\n",
        "- Add `chapter_index` to metadata\n",
        "\n",
        "The **the_little_prince.txt** file has a preface before the start of Chapter 1, so add it as Chapter 0.\n"
      ]
    },
    {
      "cell_type": "code",
      "execution_count": 15,
      "id": "12ec0425",
      "metadata": {},
      "outputs": [],
      "source": [
        "from langchain_core.documents import Document\n",
        "\n",
        "split_chapters = []\n",
        "for _, doc in enumerate(documents):\n",
        "    chapters = doc.page_content.split(\"[ Chapter \")\n",
        "    if chapters:  # preface\n",
        "        split_chapters.append(\n",
        "            Document(\n",
        "                page_content=chapters[0].strip(),\n",
        "                metadata={\"chapter\": 0},\n",
        "            )\n",
        "        )\n",
        "\n",
        "    for chapter_index, chapter in enumerate(chapters[1:], start=1):\n",
        "        content = chapter.split(\" ]\")\n",
        "        split_chapters.append(\n",
        "            Document(\n",
        "                page_content=content[-1].strip(), metadata={\"chapter\": chapter_index}\n",
        "            )\n",
        "        )"
      ]
    },
    {
      "cell_type": "markdown",
      "id": "9aafef58",
      "metadata": {},
      "source": [
        "If you compare the `documents` to `split_chapters` , you can see that `page_content` is split by `chapter` .\n"
      ]
    },
    {
      "cell_type": "code",
      "execution_count": 16,
      "id": "0a41adeb",
      "metadata": {},
      "outputs": [
        {
          "data": {
            "text/plain": [
              "[Document(metadata={'chapter': 0}, page_content=\"The Little Prince\\nWritten By Antoine de Saiot-Exupery (1900〜1944)\\n\\n[ Antoine de Saiot-Exupery ]\\nOver the past century, the thrill of flying has inspired some to perform remarkable feats of daring. For others, their desire to soar into the skies led to dramatic leaps in technology. For Antoine de Saint-Exupéry, his love of aviation inspired stories, which have touched the hearts of millions around the world.\\nBorn in 1900 in Lyons, France, young Antoine was filled with a passion for adventure. When he failed an entrance exam for the Naval Academy, his interest in aviation took hold. He joined the French Army Air Force in 1921 where he first learned to fly a plane. Five years later, he would leave the military in order to begin flying air mail between remote settlements in the Sahara desert.\\nFor Saint-Exupéry, it was a grand adventure - one with dangers lurking at every corner. Flying his open cockpit biplane, Saint-Exupéry had to fight the desert's swirling sandstorms. Worse, still, he ran the risk of being shot at by unfriendly tribesmen below. Saint-Exupéry couldn't have been more thrilled. Soaring across the Sahara inspired him to spend his nights writing about his love affair with flying.\\nWhen World War II broke out, Saint-Exupéry rejoined the French Air Force. After Nazi troops overtook France in 1940, Saint-Exupéry fled to the United States. He had hoped to join the U. S. war effort as a fighter pilot, but was dismissed because of his age. To console himself, he drew upon his experiences over the Saharan desert to write and illustrate what would become his most famous book, The Little Prince (1943). Mystical and enchanting, this small book has fascinated both children and adults for decades. In the book, a pilot is stranded in the midst of the Sahara where he meets a tiny prince from another world traveling the universe in order to understand life. In the book, the little prince discovers the true meaning of life. At the end of his conversation with the Little Prince, the aviator manages to fix his plane and both he and the little prince continue on their journeys \\nShortly after completing the book, Saint-Exupéry finally got his wish. He returned to North Africa to fly a warplane for his country. On July 31, 1944, Saint-Exupéry took off on a mission. Sadly, he was never heard from again.\\n\\n[ TO LEON WERTH ]\\nI ask the indulgence of the children who may read this book for dedicating it to a grown-up. I have a serious reason: he is the best friend I have in the world. I have another reason: this grown-up understands everything, even books about children. I have a third reason: he lives in France where he is hungry and cold. He needs cheering up. If all these reasons are not enough, I will dedicate the book to the child from whom this grown-up grew. All grown-ups were once children-- although few of them remember it. And so I correct my dedication: \\nTO LEON WERTH WHEN HE WAS A LITTLE BOY\"),\n",
              " Document(metadata={'chapter': 1}, page_content='- we are introduced to the narrator, a pilot, and his ideas about grown-ups\\nOnce when I was six years old I saw a magnificent picture in a book, called True Stories from Nature, about the primeval forest. It was a picture of a boa constrictor in the act of swallowing an animal. Here is a copy of the drawing. \\n(picture)\\nIn the book it said: \"Boa constrictors swallow their prey whole, without chewing it. After that they are not able to move, and they sleep through the six months that they need for digestion.\" \\nI pondered deeply, then, over the adventures of the jungle. And after some work with a colored pencil I succeeded in making my first drawing. My Drawing Number One. It looked like this: \\n(picture)\\nI showed my masterpiece to the grown-ups, and asked them whether the drawing frightened them.\\nBut they answered: \"Frighten? Why should any one be frightened by a hat?\" \\nMy drawing was not a picture of a hat. It was a picture of a boa constrictor digesting an elephant. But since the grown-ups were not able to understand it, I made another drawing: I drew the inside of the boa constrictor, so that the grown-ups could see it clearly. They always need to have things explained. My Drawing Number Two looked like this: \\n(picture)\\nThe grown-ups‘ response, this time, was to advise me to lay aside my drawings of boa constrictors, whether from the inside or the outside, and devote myself instead to geography, history, arithmetic and grammar. That is why, at the age of six, I gave up what might have been a magnificent career as a painter. I had been disheartened by the failure of my Drawing Number One and my Drawing Number Two. Grown-ups never understand anything by themselves, and it is tiresome for children to be always and forever explaining things to them.\\nSo then I chose another profession, and learned to pilot airplanes. I have flown a little over all parts of the world; and it is true that geography has been very useful to me. At a glance I can distinguish China from Arizona. If one gets lost in the night, such knowledge is valuable. \\nIn the course of this life I have had a great many encounters with a great many people who have been concerned with matters of consequence. I have lived a great deal among grown-ups. I have seen them intimately, close at hand. And that hasn‘t much improved my opinion of them.\\nWhenever I met one of them who seemed to me at all clear-sighted, I tried the experiment of showing him my Drawing Number One, which I have always kept. I would try to find out, so, if this was a person of true understanding. But, whoever it was, he, or she, would always say:\\n\"That is a hat.\"\\nThen I would never talk to that person about boa constrictors, or primeval forests, or stars. I would bring myself down to his level. I would talk to him about bridge, and golf, and politics, and neckties. And the grown-up would be greatly pleased to have met such a sensible man.')]"
            ]
          },
          "execution_count": 16,
          "metadata": {},
          "output_type": "execute_result"
        }
      ],
      "source": [
        "split_chapters[:2]"
      ]
    },
    {
      "cell_type": "markdown",
      "id": "66be4b6a",
      "metadata": {},
      "source": [
        "### Text splitters\n",
        "\n",
        "Splitting a `Document` into appropriately sized chunks allows you to process text data more efficiently.\n",
        "\n",
        "To split a `Document` while preserving paragraph and sentence structure, use `RecursiveCharacterTextSplitter` .\n",
        "\n",
        "- `chunk_size` : setting the maximum size of chunks\n",
        "\n",
        "- `chunk_overlap` : setting the character overlap size between chunks\n"
      ]
    },
    {
      "cell_type": "code",
      "execution_count": 17,
      "id": "2ffb1800",
      "metadata": {},
      "outputs": [],
      "source": [
        "from langchain_text_splitters import RecursiveCharacterTextSplitter\n",
        "\n",
        "text_splitter = RecursiveCharacterTextSplitter(chunk_size=800, chunk_overlap=200)\n",
        "split_documents = text_splitter.split_documents(split_chapters)"
      ]
    },
    {
      "cell_type": "markdown",
      "id": "2c46bbbb",
      "metadata": {},
      "source": [
        "### Add metadata\n",
        "\n",
        "Splitting the document into `chunk_size` increases the number of documents.\n",
        "\n",
        "Add an `index` key to the metadata to identify the document index, since it is not split into one `Document` per chapter.\n"
      ]
    },
    {
      "cell_type": "code",
      "execution_count": 18,
      "id": "c090e904",
      "metadata": {},
      "outputs": [],
      "source": [
        "for index, doc in enumerate(split_documents):\n",
        "    doc.metadata.update({\"index\": index})"
      ]
    },
    {
      "cell_type": "markdown",
      "id": "3c3ca28a",
      "metadata": {},
      "source": [
        "The `index` has been added to the metadata.\n",
        "\n",
        "You can see that some of the `page_content` text in the `Document` overlaps, such as index 7 and index 8.\n"
      ]
    },
    {
      "cell_type": "code",
      "execution_count": 19,
      "id": "a5c7bd07",
      "metadata": {},
      "outputs": [
        {
          "data": {
            "text/plain": [
              "[Document(metadata={'chapter': 1, 'index': 7}, page_content='- we are introduced to the narrator, a pilot, and his ideas about grown-ups\\nOnce when I was six years old I saw a magnificent picture in a book, called True Stories from Nature, about the primeval forest. It was a picture of a boa constrictor in the act of swallowing an animal. Here is a copy of the drawing. \\n(picture)\\nIn the book it said: \"Boa constrictors swallow their prey whole, without chewing it. After that they are not able to move, and they sleep through the six months that they need for digestion.\" \\nI pondered deeply, then, over the adventures of the jungle. And after some work with a colored pencil I succeeded in making my first drawing. My Drawing Number One. It looked like this: \\n(picture)'),\n",
              " Document(metadata={'chapter': 1, 'index': 8}, page_content='I pondered deeply, then, over the adventures of the jungle. And after some work with a colored pencil I succeeded in making my first drawing. My Drawing Number One. It looked like this: \\n(picture)\\nI showed my masterpiece to the grown-ups, and asked them whether the drawing frightened them.\\nBut they answered: \"Frighten? Why should any one be frightened by a hat?\" \\nMy drawing was not a picture of a hat. It was a picture of a boa constrictor digesting an elephant. But since the grown-ups were not able to understand it, I made another drawing: I drew the inside of the boa constrictor, so that the grown-ups could see it clearly. They always need to have things explained. My Drawing Number Two looked like this: \\n(picture)')]"
            ]
          },
          "execution_count": 19,
          "metadata": {},
          "output_type": "execute_result"
        }
      ],
      "source": [
        "split_documents[7:9]"
      ]
    },
    {
      "cell_type": "markdown",
      "id": "94df4df9",
      "metadata": {},
      "source": [
        "## Manage vector store\n",
        "\n",
        "Now that you've initialized the `vector_store` and loaded the data, you can add and delete **Documents** to the **little-prince** collection.\n",
        "\n",
        "### Add\n",
        "\n",
        "- `add_documents` : Add **documents** to the `vector_store` and returns a List of IDs for the added documents.\n"
      ]
    },
    {
      "cell_type": "code",
      "execution_count": 20,
      "id": "c6b01161",
      "metadata": {},
      "outputs": [],
      "source": [
        "ids = vector_store.add_documents(documents=split_documents)"
      ]
    },
    {
      "cell_type": "markdown",
      "id": "619c1147",
      "metadata": {},
      "source": [
        "`delete` function allow specify the Document IDs to delete, so `ids` store the IDs of the added documents.\n",
        "\n",
        "Check the first document ID. The number of **IDs** matches the number of **documents**, and each ID is a unique value.\n",
        "\n",
        "In the image below, after adding **documents** the **STORAGE SIZE** of the collection increases and you can see the documents corresponding to each ID, such as `ids[0]` .\n",
        "\n",
        "![mongodb-atlas-add-documents](./assets/07-mongodb-atlas-collection-01.png)\n",
        "\n",
        "The `embedding` field is a **vector representation of the text** data. It is used to determine similarity to the query vector for vector search.\n"
      ]
    },
    {
      "cell_type": "markdown",
      "id": "7a11e0d9",
      "metadata": {},
      "source": [
        "### Query Filter\n",
        "\n",
        "Create a `Document` object, add it to a **collection**.\n"
      ]
    },
    {
      "cell_type": "code",
      "execution_count": 21,
      "id": "e1aeaf2a",
      "metadata": {},
      "outputs": [],
      "source": [
        "from langchain_core.documents import Document\n",
        "\n",
        "sample_document = Document(\n",
        "    page_content=\"I am leveraging my experience as a developer to provide development education and nurture many new developers.\",\n",
        "    metadata={\"source\": \"linkedin\"},\n",
        ")\n",
        "sample_id = vector_store.add_documents([sample_document])"
      ]
    },
    {
      "cell_type": "markdown",
      "id": "6ed0d4f1",
      "metadata": {},
      "source": [
        "**TOTAL DOCUMENTS** has increased from 164 to 165.\n",
        "\n",
        "On the last page, you can see the `page_content` of `sample_document` .\n",
        "\n",
        "Alternatively, you can add **query filter**, such as the `source` field, to view the search results.\n",
        "\n",
        "![mongodb-atlas-last-document](./assets/07-mongodb-atlas-collection-02.png)\n"
      ]
    },
    {
      "cell_type": "markdown",
      "id": "2b972279",
      "metadata": {},
      "source": [
        "### Delete\n",
        "\n",
        "You can specify the **document IDs to delete** as arguments to the `delete` function, such as `sample_id` .\n"
      ]
    },
    {
      "cell_type": "code",
      "execution_count": 22,
      "id": "8969e67f",
      "metadata": {},
      "outputs": [
        {
          "data": {
            "text/plain": [
              "True"
            ]
          },
          "execution_count": 22,
          "metadata": {},
          "output_type": "execute_result"
        }
      ],
      "source": [
        "vector_store.delete(ids=sample_id)"
      ]
    },
    {
      "cell_type": "markdown",
      "id": "840e407b",
      "metadata": {},
      "source": [
        "If `True` returns, the deletion is successful.\n",
        "\n",
        "You can see that **TOTAL DOCUMENTS** has decreasesd from 165 to 164 and that `sample_document` has been deleted.\n"
      ]
    },
    {
      "cell_type": "markdown",
      "id": "29f5df61",
      "metadata": {},
      "source": [
        "## Query vector store\n",
        "\n",
        "Make a `query` related to the content of The Little Prince and see if the `vector_store` returns results from a search for similar documents.\n",
        "\n",
        "The `query` is based on the most well-known story about the relationship between the Little Prince and the Fox.\n"
      ]
    },
    {
      "cell_type": "code",
      "execution_count": 23,
      "id": "ccda34a5",
      "metadata": {},
      "outputs": [],
      "source": [
        "query = \"What does it mean to be tamed according to the fox?\""
      ]
    },
    {
      "cell_type": "markdown",
      "id": "5cd1d141",
      "metadata": {},
      "source": [
        "### Semantic Search\n",
        "\n",
        "`similarity_search` method performs a basic semantic search\n",
        "\n",
        "It returns a **List[Document]** ranked by relevance.\n"
      ]
    },
    {
      "cell_type": "code",
      "execution_count": 24,
      "id": "5777d224",
      "metadata": {},
      "outputs": [
        {
          "data": {
            "text/plain": [
              "[Document(metadata={'_id': '678d9f226d9526b32c474d66', 'chapter': 21, 'index': 123}, page_content='The fox gazed at the little prince, for a long time. \\n(picture)\\n\"Please-- tame me!\" he said. \\n\"I want to, very much,\" the little prince replied. \"But I have not much time. I have friends to discover, and a great many things to understand.\" \\n\"One only understands the things that one tames,\" said the fox. \"Men have no more time to understand anything. They buy things all ready made at the shops. But there is no shop anywhere where one can buy friendship, and so men have no friends any more. If you want a friend, tame me...\" \\n\"What must I do, to tame you?\" asked the little prince.'),\n",
              " Document(metadata={'_id': '678d9f226d9526b32c474d62', 'chapter': 21, 'index': 119}, page_content='\"No,\" said the little prince. \"I am looking for friends. What does that mean-- ‘tame‘?\" \\n\"It is an act too often neglected,\" said the fox. It means to establish ties.\" \\n\"\\'To establish ties\\'?\"\\n\"Just that,\" said the fox. \"To me, you are still nothing more than a little boy who is just like a hundred thousand other little boys. And I have no need of you. And you, on your part, have no need of me. To you, I am nothing more than a fox like a hundred thousand other foxes. But if you tame me, then we shall need each other. To me, you will be unique in all the world. To you, I shall be unique in all the world...\" \\n\"I am beginning to understand,\" said the little prince. \"There is a flower... I think that she has tamed me...\"'),\n",
              " Document(metadata={'_id': '678d9f226d9526b32c474d61', 'chapter': 21, 'index': 118}, page_content='\"What does that mean-- ‘tame‘?\" \\n\"You do not live here,\" said the fox. \"What is it that you are looking for?\" \\n\"I am looking for men,\" said the little prince. \"What does that mean-- ‘tame‘?\" \\n\"Men,\" said the fox. \"They have guns, and they hunt. It is very disturbing. They also raise chickens. These are their only interests. Are you looking for chickens?\" \\n\"No,\" said the little prince. \"I am looking for friends. What does that mean-- ‘tame‘?\" \\n\"It is an act too often neglected,\" said the fox. It means to establish ties.\" \\n\"\\'To establish ties\\'?\"'),\n",
              " Document(metadata={'_id': '678d9f226d9526b32c474d64', 'chapter': 21, 'index': 121}, page_content='\"My life is very monotonous,\" the fox said. \"I hunt chickens; men hunt me. All the chickens are just alike, and all the men are just alike. And, in consequence, I am a little bored. But if you tame me, it will be as if the sun came to shine on my life . I shall know the sound of a step that will be different from all the others. Other steps send me hurrying back underneath the ground. Yours will call me, like music, out of my burrow. And then look: you see the grain-fields down yonder? I do not ea t bread. Wheat is of no use to me. The wheat fields have nothing to say to me. And that is sad. But you have hair that is the colour of gold. Think how wonderful that will be when you have tamed me! The grain, which is also golden, will bring me bac k the thought of you. And I shall love to')]"
            ]
          },
          "execution_count": 24,
          "metadata": {},
          "output_type": "execute_result"
        }
      ],
      "source": [
        "vector_store.similarity_search(query=query)"
      ]
    },
    {
      "cell_type": "markdown",
      "id": "d55ac5dd",
      "metadata": {},
      "source": [
        "### Semantic Search with Score\n",
        "\n",
        "`similarity_search_with_score` method also performs a semantic search.\n",
        "\n",
        "The difference with the `similarity_search` method is that it returns a **relevance score** of documents between 0 and 1.\n",
        "\n",
        "The `k` parameter in the example below specifies the number of documents. This is also supported by `similarity_search` method.\n"
      ]
    },
    {
      "cell_type": "code",
      "execution_count": 25,
      "id": "3313b168",
      "metadata": {},
      "outputs": [
        {
          "data": {
            "text/plain": [
              "[(Document(metadata={'_id': '678d9f226d9526b32c474d66', 'chapter': 21, 'index': 123}, page_content='The fox gazed at the little prince, for a long time. \\n(picture)\\n\"Please-- tame me!\" he said. \\n\"I want to, very much,\" the little prince replied. \"But I have not much time. I have friends to discover, and a great many things to understand.\" \\n\"One only understands the things that one tames,\" said the fox. \"Men have no more time to understand anything. They buy things all ready made at the shops. But there is no shop anywhere where one can buy friendship, and so men have no friends any more. If you want a friend, tame me...\" \\n\"What must I do, to tame you?\" asked the little prince.'),\n",
              "  0.8046818971633911),\n",
              " (Document(metadata={'_id': '678d9f226d9526b32c474d62', 'chapter': 21, 'index': 119}, page_content='\"No,\" said the little prince. \"I am looking for friends. What does that mean-- ‘tame‘?\" \\n\"It is an act too often neglected,\" said the fox. It means to establish ties.\" \\n\"\\'To establish ties\\'?\"\\n\"Just that,\" said the fox. \"To me, you are still nothing more than a little boy who is just like a hundred thousand other little boys. And I have no need of you. And you, on your part, have no need of me. To you, I am nothing more than a fox like a hundred thousand other foxes. But if you tame me, then we shall need each other. To me, you will be unique in all the world. To you, I shall be unique in all the world...\" \\n\"I am beginning to understand,\" said the little prince. \"There is a flower... I think that she has tamed me...\"'),\n",
              "  0.7951266765594482),\n",
              " (Document(metadata={'_id': '678d9f226d9526b32c474d61', 'chapter': 21, 'index': 118}, page_content='\"What does that mean-- ‘tame‘?\" \\n\"You do not live here,\" said the fox. \"What is it that you are looking for?\" \\n\"I am looking for men,\" said the little prince. \"What does that mean-- ‘tame‘?\" \\n\"Men,\" said the fox. \"They have guns, and they hunt. It is very disturbing. They also raise chickens. These are their only interests. Are you looking for chickens?\" \\n\"No,\" said the little prince. \"I am looking for friends. What does that mean-- ‘tame‘?\" \\n\"It is an act too often neglected,\" said the fox. It means to establish ties.\" \\n\"\\'To establish ties\\'?\"'),\n",
              "  0.7918555736541748),\n",
              " (Document(metadata={'_id': '678d9f226d9526b32c474d64', 'chapter': 21, 'index': 121}, page_content='\"My life is very monotonous,\" the fox said. \"I hunt chickens; men hunt me. All the chickens are just alike, and all the men are just alike. And, in consequence, I am a little bored. But if you tame me, it will be as if the sun came to shine on my life . I shall know the sound of a step that will be different from all the others. Other steps send me hurrying back underneath the ground. Yours will call me, like music, out of my burrow. And then look: you see the grain-fields down yonder? I do not ea t bread. Wheat is of no use to me. The wheat fields have nothing to say to me. And that is sad. But you have hair that is the colour of gold. Think how wonderful that will be when you have tamed me! The grain, which is also golden, will bring me bac k the thought of you. And I shall love to'),\n",
              "  0.773917555809021),\n",
              " (Document(metadata={'_id': '678d9f226d9526b32c474d60', 'chapter': 21, 'index': 117}, page_content='- the little prince befriends the fox\\nIt was then that the fox appeared.\\n\"Good morning,\" said the fox. \\n\"Good morning,\" the little prince responded politely, although when he turned around he saw nothing. \\n\"I am right here,\" the voice said, \"under the apple tree.\" \\n(picture)\\n\"Who are you?\" asked the little prince, and added, \"You are very pretty to look at.\" \\n\"I am a fox,\" said the fox. \\n\"Come and play with me,\" proposed the little prince. \"I am so unhappy.\" \\n\"I cannot play with you,\" the fox said. \"I am not tamed.\" \\n\"Ah! Please excuse me,\" said the little prince. \\nBut, after some thought, he added: \\n\"What does that mean-- ‘tame‘?\" \\n\"You do not live here,\" said the fox. \"What is it that you are looking for?\" \\n\"I am looking for men,\" said the little prince. \"What does that mean-- ‘tame‘?\"'),\n",
              "  0.7720270156860352),\n",
              " (Document(metadata={'_id': '678d9f226d9526b32c474d67', 'chapter': 21, 'index': 124}, page_content='\"What must I do, to tame you?\" asked the little prince. \\n\"You must be very patient,\" replied the fox. \"First you will sit down at a little distance from me-- like that-- in the grass. I shall look at you out of the corner of my eye, and you will say nothing. Words are the source of misunderstandings. But yo u will sit a little closer to me, every day...\" \\nThe next day the little prince came back.'),\n",
              "  0.770125150680542),\n",
              " (Document(metadata={'_id': '678d9f226d9526b32c474d69', 'chapter': 21, 'index': 126}, page_content='\"What is a rite?\" asked the little prince. \\n\"Those also are actions too often neglected,\" said the fox. \"They are what make one day different from other days, one hour from other hours. There is a rite, for example, among my hunters. Every Thursday they dance with the village girls. So Thursday is a wonderful day for me! I can take a walk as far as the vineyards. But if the hunters danced at just any time, every day would be like every other day, and I should never have any vacation at all.\" \\nSo the little prince tamed the fox. And when the hour of his departure drew near-- \\n\"Ah,\" said the fox, \"I shall cry.\" \\n\"It is your own fault,\" said the little prince. \"I never wished you any sort of harm; but you wanted me to tame you...\" \\n\"Yes, that is so,\" said the fox.'),\n",
              "  0.7536178827285767),\n",
              " (Document(metadata={'_id': '678d9f226d9526b32c474d63', 'chapter': 21, 'index': 120}, page_content='\"I am beginning to understand,\" said the little prince. \"There is a flower... I think that she has tamed me...\" \\n\"It is possible,\" said the fox. \"On the Earth one sees all sorts of things.\" \\n\"Oh, but this is not on the Earth!\" said the little prince. \\nThe fox seemed perplexed, and very curious. \\n\"On another planet?\" \\n\"Yes.\" \\n\"Are there hunters on this planet?\" \\n\"No.\" \\n\"Ah, that is interesting! Are there chickens?\" \\n\"No.\" \\n\"Nothing is perfect,\" sighed the fox. \\nBut he came back to his idea.'),\n",
              "  0.7314475178718567),\n",
              " (Document(metadata={'_id': '678d9f226d9526b32c474d6e', 'chapter': 21, 'index': 131}, page_content='\"Men have forgotten this truth,\" said the fox. \"But you must not forget it. You become responsible, forever, for what you have tamed. You are responsible for your rose...\" \\n\"I am responsible for my rose,\" the little prince repeated, so that he would be sure to remember.'),\n",
              "  0.7110254168510437),\n",
              " (Document(metadata={'_id': '678d9f226d9526b32c474d6a', 'chapter': 21, 'index': 127}, page_content='\"Ah,\" said the fox, \"I shall cry.\" \\n\"It is your own fault,\" said the little prince. \"I never wished you any sort of harm; but you wanted me to tame you...\" \\n\"Yes, that is so,\" said the fox. \\n\"But now you are going to cry!\" said the little prince. \\n\"Yes, that is so,\" said the fox. \\n\"Then it has done you no good at all!\" \\n\"It has done me good,\" said the fox, \"because of the color of the wheat fields.\" And then he added: \\n\"Go and look again at the roses. You will understand now that yours is unique in all the world. Then come back to say goodbye to me, and I will make you a present of a secret.\" \\nThe little prince went away, to look again at the roses.'),\n",
              "  0.7037004232406616)]"
            ]
          },
          "execution_count": 25,
          "metadata": {},
          "output_type": "execute_result"
        }
      ],
      "source": [
        "vector_store.similarity_search_with_score(query=query, k=10)"
      ]
    },
    {
      "cell_type": "markdown",
      "id": "f5d3c754",
      "metadata": {},
      "source": [
        "### Semantic Search with Filtering\n",
        "\n",
        "**MongoDB Atlas** supports pre-filtering your data using **MongoDB Query Language(MQL) Operators**.\n",
        "\n",
        "You must update the index definition using `create_vector_search_index` .\n"
      ]
    },
    {
      "cell_type": "code",
      "execution_count": 26,
      "id": "bccbed02",
      "metadata": {},
      "outputs": [],
      "source": [
        "vector_store.create_vector_search_index(dimensions=1536, filters=[\"index\"], update=True)"
      ]
    },
    {
      "cell_type": "markdown",
      "id": "64ded051",
      "metadata": {},
      "source": [
        "Compare the image below to when you first created the index in [Vector Store](#vector-store).\n",
        "\n",
        "Notice that `index` have been added to the **Index Fields** and **Documents** have been added as well.\n",
        "\n",
        "![mongodb-atlas-index-update](./assets/07-mongodb-atlas-search-index-04.png)\n"
      ]
    },
    {
      "cell_type": "markdown",
      "id": "96e11a7a",
      "metadata": {},
      "source": [
        "There are **comparison query operators** that find values that match a condition.\n",
        "\n",
        "For example, the `$eq` operator finds **documents** that match a specified value.\n",
        "\n",
        "Now you can add a `pre_filter` condition that documents **index** are lower than or equal to 123 using the `$lte` operator.\n"
      ]
    },
    {
      "cell_type": "code",
      "execution_count": 28,
      "id": "ffaa421c",
      "metadata": {},
      "outputs": [
        {
          "data": {
            "text/plain": [
              "[(Document(metadata={'_id': '678d9f226d9526b32c474d66', 'chapter': 21, 'index': 123}, page_content='The fox gazed at the little prince, for a long time. \\n(picture)\\n\"Please-- tame me!\" he said. \\n\"I want to, very much,\" the little prince replied. \"But I have not much time. I have friends to discover, and a great many things to understand.\" \\n\"One only understands the things that one tames,\" said the fox. \"Men have no more time to understand anything. They buy things all ready made at the shops. But there is no shop anywhere where one can buy friendship, and so men have no friends any more. If you want a friend, tame me...\" \\n\"What must I do, to tame you?\" asked the little prince.'),\n",
              "  0.8046818971633911),\n",
              " (Document(metadata={'_id': '678d9f226d9526b32c474d62', 'chapter': 21, 'index': 119}, page_content='\"No,\" said the little prince. \"I am looking for friends. What does that mean-- ‘tame‘?\" \\n\"It is an act too often neglected,\" said the fox. It means to establish ties.\" \\n\"\\'To establish ties\\'?\"\\n\"Just that,\" said the fox. \"To me, you are still nothing more than a little boy who is just like a hundred thousand other little boys. And I have no need of you. And you, on your part, have no need of me. To you, I am nothing more than a fox like a hundred thousand other foxes. But if you tame me, then we shall need each other. To me, you will be unique in all the world. To you, I shall be unique in all the world...\" \\n\"I am beginning to understand,\" said the little prince. \"There is a flower... I think that she has tamed me...\"'),\n",
              "  0.7951266765594482),\n",
              " (Document(metadata={'_id': '678d9f226d9526b32c474d61', 'chapter': 21, 'index': 118}, page_content='\"What does that mean-- ‘tame‘?\" \\n\"You do not live here,\" said the fox. \"What is it that you are looking for?\" \\n\"I am looking for men,\" said the little prince. \"What does that mean-- ‘tame‘?\" \\n\"Men,\" said the fox. \"They have guns, and they hunt. It is very disturbing. They also raise chickens. These are their only interests. Are you looking for chickens?\" \\n\"No,\" said the little prince. \"I am looking for friends. What does that mean-- ‘tame‘?\" \\n\"It is an act too often neglected,\" said the fox. It means to establish ties.\" \\n\"\\'To establish ties\\'?\"'),\n",
              "  0.7918555736541748),\n",
              " (Document(metadata={'_id': '678d9f226d9526b32c474d64', 'chapter': 21, 'index': 121}, page_content='\"My life is very monotonous,\" the fox said. \"I hunt chickens; men hunt me. All the chickens are just alike, and all the men are just alike. And, in consequence, I am a little bored. But if you tame me, it will be as if the sun came to shine on my life . I shall know the sound of a step that will be different from all the others. Other steps send me hurrying back underneath the ground. Yours will call me, like music, out of my burrow. And then look: you see the grain-fields down yonder? I do not ea t bread. Wheat is of no use to me. The wheat fields have nothing to say to me. And that is sad. But you have hair that is the colour of gold. Think how wonderful that will be when you have tamed me! The grain, which is also golden, will bring me bac k the thought of you. And I shall love to'),\n",
              "  0.773917555809021),\n",
              " (Document(metadata={'_id': '678d9f226d9526b32c474d60', 'chapter': 21, 'index': 117}, page_content='- the little prince befriends the fox\\nIt was then that the fox appeared.\\n\"Good morning,\" said the fox. \\n\"Good morning,\" the little prince responded politely, although when he turned around he saw nothing. \\n\"I am right here,\" the voice said, \"under the apple tree.\" \\n(picture)\\n\"Who are you?\" asked the little prince, and added, \"You are very pretty to look at.\" \\n\"I am a fox,\" said the fox. \\n\"Come and play with me,\" proposed the little prince. \"I am so unhappy.\" \\n\"I cannot play with you,\" the fox said. \"I am not tamed.\" \\n\"Ah! Please excuse me,\" said the little prince. \\nBut, after some thought, he added: \\n\"What does that mean-- ‘tame‘?\" \\n\"You do not live here,\" said the fox. \"What is it that you are looking for?\" \\n\"I am looking for men,\" said the little prince. \"What does that mean-- ‘tame‘?\"'),\n",
              "  0.7720270156860352),\n",
              " (Document(metadata={'_id': '678d9f226d9526b32c474d63', 'chapter': 21, 'index': 120}, page_content='\"I am beginning to understand,\" said the little prince. \"There is a flower... I think that she has tamed me...\" \\n\"It is possible,\" said the fox. \"On the Earth one sees all sorts of things.\" \\n\"Oh, but this is not on the Earth!\" said the little prince. \\nThe fox seemed perplexed, and very curious. \\n\"On another planet?\" \\n\"Yes.\" \\n\"Are there hunters on this planet?\" \\n\"No.\" \\n\"Ah, that is interesting! Are there chickens?\" \\n\"No.\" \\n\"Nothing is perfect,\" sighed the fox. \\nBut he came back to his idea.'),\n",
              "  0.7314475178718567),\n",
              " (Document(metadata={'_id': '678d9f226d9526b32c474d20', 'chapter': 8, 'index': 53}, page_content='And the little prince, completely abashed, went to look for a sprinkling-can of fresh water. So, he tended the flower. \\n(picture)\\nSo, too, she began very quickly to torment him with her vanity-- which was, if the truth be known, a little difficult to deal with. One day, for instance, when she was speaking of her four thorns, she said to the little prince: \\n\"Let the tigers come with their claws!\" \\n\"There are no tigers on my planet,\" the little prince objected. \"And, anyway, tigers do not eat weeds.\" \\n\"I am not a weed,\" the flower replied, sweetly. \\n\"Please excuse me...\"\\n\"I am not at all afraid of tigers,\" she went on, \"but I have a horror of drafts. I suppose you wouldn‘t have a screen for me?\"'),\n",
              "  0.6490210890769958),\n",
              " (Document(metadata={'_id': '678d9f226d9526b32c474d27', 'chapter': 9, 'index': 60}, page_content='\"But the wind--\" \\n\"My cold is not so bad as all that... the cool night air will do me good. I am a flower.\" \\n\"But the animals--\" \\n\"Well, I must endure the presence of two or three caterpillars if I wish to become acquainted with the butterflies. It seems that they are very beautiful. And if not the butterflies-- and the caterpillars-- who will call upon me? You will be far away... as for the large animals-- I am not at all afraid of any of them. I have my claws.\" \\nAnd, naïvely, she showed her four thorns. Then she added: \\n\"Don‘t linger like this. You have decided to go away. Now go!\" \\nFor she did not want him to see her crying. She was such a proud flower...'),\n",
              "  0.6461950540542603),\n",
              " (Document(metadata={'_id': '678d9f226d9526b32c474d01', 'chapter': 3, 'index': 22}, page_content='After a reflective silence he answered: \\n\"The thing that is so good about the box you have given me is that at night he can use it as his house.\" \\n\"That is so. And if you are good I will give you a string, too, so that you can tie him during the day, and a post to tie him to.\" \\nBut the little prince seemed shocked by this offer: \\n\"Tie him! What a queer idea!\" \\n\"But if you don‘t tie him,\" I said, \"he will wander off somewhere, and get lost.\" \\nMy friend broke into another peal of laughter: \"But where do you think he would go?\" \\n\"Anywhere. Straight ahead of him.\" \\nThen the little prince said, earnestly: \\n\"That doesn‘t matter. Where I live, everything is so small!\" \\nAnd, with perhaps a hint of sadness, he added: \\n\"Straight ahead of him, nobody can go very far...\"'),\n",
              "  0.6453869938850403),\n",
              " (Document(metadata={'_id': '678d9f226d9526b32c474d15', 'chapter': 7, 'index': 42}, page_content='- the narrator learns about the secret of the little prince‘s life \\nOn the fifth day-- again, as always, it was thanks to the sheep-- the secret of the little prince‘s life was revealed to me. Abruptly, without anything to lead up to it, and as if the question had been born of long and silent meditation on his problem, he demanded: \\n\"A sheep-- if it eats little bushes, does it eat flowers, too?\"\\n\"A sheep,\" I answered, \"eats anything it finds in its reach.\"\\n\"Even flowers that have thorns?\"\\n\"Yes, even flowers that have thorns.\" \\n\"Then the thorns-- what use are they?\"'),\n",
              "  0.6451370716094971)]"
            ]
          },
          "execution_count": 28,
          "metadata": {},
          "output_type": "execute_result"
        }
      ],
      "source": [
        "vector_store.similarity_search_with_score(\n",
        "    query=query, k=10, pre_filter={\"index\": {\"$lte\": 123}}\n",
        ")"
      ]
    },
    {
      "cell_type": "markdown",
      "id": "73649e8b",
      "metadata": {},
      "source": [
        "## CRUD Operations with PyMongo\n",
        "\n",
        "Let's use **PyMongo Collection** instead of `MongoDBAtlasVectorSearch` for our **Document CRUD Operations**.\n",
        "\n",
        "### Setting up with an empty collection\n",
        "\n",
        "Delete all documents in `vector_store` and start with an empty collection.\n",
        "\n",
        "- `delete` : If you don't specify an ID, all documents added to the collection are deleted.\n"
      ]
    },
    {
      "cell_type": "code",
      "execution_count": 29,
      "id": "dcf5cf13",
      "metadata": {},
      "outputs": [
        {
          "data": {
            "text/plain": [
              "True"
            ]
          },
          "execution_count": 29,
          "metadata": {},
          "output_type": "execute_result"
        }
      ],
      "source": [
        "vector_store.delete()"
      ]
    },
    {
      "cell_type": "markdown",
      "id": "f2117a68",
      "metadata": {},
      "source": [
        "If `True` returns, the deletion is successful.\n",
        "\n",
        "You can see that **TOTAL DOCUMENTS** has decreasesd to 0.\n"
      ]
    },
    {
      "cell_type": "markdown",
      "id": "0ea0c300",
      "metadata": {},
      "source": [
        "### Binary JSON(BSON) Document\n",
        "\n",
        "**BSON**, the binary representation of **JSON**, is primarily used internally by MongoDB.\n",
        "\n",
        "- Faster traversal compared to **JSON**.\n",
        "\n",
        "- `RawBSONDocument` : represent BSON document using the raw bytes.\n"
      ]
    },
    {
      "cell_type": "code",
      "execution_count": 30,
      "id": "bd4a3076",
      "metadata": {},
      "outputs": [],
      "source": [
        "from typing import List, Iterable\n",
        "from bson import encode\n",
        "from bson.raw_bson import RawBSONDocument\n",
        "from langchain_core.documents import Document\n",
        "\n",
        "\n",
        "def convert_document_to_raw_bson(\n",
        "    document: Document,\n",
        ") -> RawBSONDocument:\n",
        "    document_dict = {\n",
        "        \"page_content\": document.page_content,\n",
        "        \"metadata\": document.metadata,\n",
        "    }\n",
        "    return RawBSONDocument(encode(document_dict))\n",
        "\n",
        "\n",
        "def convert_documents_to_raw_bson(\n",
        "    documents: List[Document],\n",
        ") -> Iterable[RawBSONDocument]:\n",
        "    for document in documents:\n",
        "        yield convert_document_to_raw_bson(document)"
      ]
    },
    {
      "cell_type": "markdown",
      "id": "d0e93e97",
      "metadata": {},
      "source": [
        "### Insert\n",
        "\n",
        "- `insert_one` : add a single document.\n",
        "\n",
        "- `insert_many` : add multiple documents.\n"
      ]
    },
    {
      "cell_type": "code",
      "execution_count": 31,
      "id": "217ccf58",
      "metadata": {},
      "outputs": [
        {
          "data": {
            "text/plain": [
              "InsertOneResult(None, acknowledged=True)"
            ]
          },
          "execution_count": 31,
          "metadata": {},
          "output_type": "execute_result"
        }
      ],
      "source": [
        "sample_document_bson = convert_document_to_raw_bson(sample_document)\n",
        "collection.insert_one(sample_document_bson)"
      ]
    },
    {
      "cell_type": "code",
      "execution_count": 32,
      "id": "aa2affc8",
      "metadata": {},
      "outputs": [
        {
          "data": {
            "text/plain": [
              "InsertManyResult([], acknowledged=True)"
            ]
          },
          "execution_count": 32,
          "metadata": {},
          "output_type": "execute_result"
        }
      ],
      "source": [
        "split_documents_bson = convert_documents_to_raw_bson(split_documents)\n",
        "collection.insert_many(documents=split_documents_bson)"
      ]
    },
    {
      "cell_type": "markdown",
      "id": "0ce171b4",
      "metadata": {},
      "source": [
        "### Read with Evaluation Operators\n",
        "\n",
        "To compare the equality, use `<field>` : `<value>` expression .\n",
        "\n",
        "You can also use [evaluation operators](https://www.mongodb.com/docs/languages/python/pymongo-driver/current/read/specify-a-query/#evaluation-operators) to perform operations.\n",
        "\n",
        "For example, `$regex` operator returns documents that match a regular expression.\n",
        "\n",
        "- `fox_query_filter` : find all documents inclues the string `fox` in the `page_content` field.\n",
        "\n",
        "- `find_one` : retrieve the first document that matches the condition.\n"
      ]
    },
    {
      "cell_type": "code",
      "execution_count": 33,
      "id": "8296ee33",
      "metadata": {},
      "outputs": [
        {
          "data": {
            "text/plain": [
              "{'_id': ObjectId('678da0ff4352fdc7a3be6a02'),\n",
              " 'page_content': '- the little prince befriends the fox\\nIt was then that the fox appeared.\\n\"Good morning,\" said the fox. \\n\"Good morning,\" the little prince responded politely, although when he turned around he saw nothing. \\n\"I am right here,\" the voice said, \"under the apple tree.\" \\n(picture)\\n\"Who are you?\" asked the little prince, and added, \"You are very pretty to look at.\" \\n\"I am a fox,\" said the fox. \\n\"Come and play with me,\" proposed the little prince. \"I am so unhappy.\" \\n\"I cannot play with you,\" the fox said. \"I am not tamed.\" \\n\"Ah! Please excuse me,\" said the little prince. \\nBut, after some thought, he added: \\n\"What does that mean-- ‘tame‘?\" \\n\"You do not live here,\" said the fox. \"What is it that you are looking for?\" \\n\"I am looking for men,\" said the little prince. \"What does that mean-- ‘tame‘?\"',\n",
              " 'metadata': {'chapter': 21, 'index': 117}}"
            ]
          },
          "execution_count": 33,
          "metadata": {},
          "output_type": "execute_result"
        }
      ],
      "source": [
        "fox_query_filter = {\"page_content\": {\"$regex\": \"fox\"}}\n",
        "\n",
        "collection.find_one(filter=fox_query_filter)"
      ]
    },
    {
      "cell_type": "markdown",
      "id": "4dd847f3",
      "metadata": {},
      "source": [
        "- `find` : updates all documents that match the condition. Passing an empty filter will return all documents.\n"
      ]
    },
    {
      "cell_type": "code",
      "execution_count": 34,
      "id": "38784670",
      "metadata": {},
      "outputs": [
        {
          "data": {
            "text/plain": [
              "19"
            ]
          },
          "execution_count": 34,
          "metadata": {},
          "output_type": "execute_result"
        }
      ],
      "source": [
        "cursor = collection.find(filter=fox_query_filter)\n",
        "\n",
        "fox_story_documents = []\n",
        "for doc in cursor:\n",
        "    fox_story_documents.append(doc)\n",
        "len(fox_story_documents)"
      ]
    },
    {
      "cell_type": "markdown",
      "id": "86fb570a",
      "metadata": {},
      "source": [
        "### Update with query filter\n",
        "\n",
        "You can use [update operators](https://www.mongodb.com/docs/manual/reference/operator/update/) to perform operations.\n",
        "\n",
        "For example, `$set` operator sets the value of a field in a document.\n",
        "\n",
        "- `preface_query_filter` : find all documents with the value `0` in the `metadata.chapter` field.\n",
        "\n",
        "- `update_operation` : updates `0` in the document's `metadata.chapter` to `-1` .\n"
      ]
    },
    {
      "cell_type": "code",
      "execution_count": 35,
      "id": "3b03f9f3",
      "metadata": {},
      "outputs": [],
      "source": [
        "preface_query_filter = {\"metadata.chapter\": 0}\n",
        "update_operation = {\"$set\": {\"metadata.chapter\": -1}}"
      ]
    },
    {
      "cell_type": "markdown",
      "id": "380cc2fd",
      "metadata": {},
      "source": [
        "- `update_one` : updates the first document that matches the condition.\n",
        "\n",
        "- `update_many` : updates all documents that match the condition.\n"
      ]
    },
    {
      "cell_type": "code",
      "execution_count": 36,
      "id": "69810851",
      "metadata": {},
      "outputs": [],
      "source": [
        "updateOneResult = collection.update_one(preface_query_filter, update_operation)\n",
        "updateManyResult = collection.update_many(preface_query_filter, update_operation)"
      ]
    },
    {
      "cell_type": "markdown",
      "id": "7ab2e985",
      "metadata": {},
      "source": [
        "`update_one` and `update_many` return `UpdateResult` object that contains the properties below:\n",
        "\n",
        "- `matched_count` : The number of documents that matched the query filter.\n",
        "\n",
        "- `modified_count` : The number of documents modified.\n"
      ]
    },
    {
      "cell_type": "code",
      "execution_count": 37,
      "id": "34706e68",
      "metadata": {},
      "outputs": [
        {
          "name": "stdout",
          "output_type": "stream",
          "text": [
            "matched: 1, modified: 1\n",
            "matched: 6, modified: 6\n"
          ]
        }
      ],
      "source": [
        "print(\n",
        "    f\"matched: {updateOneResult.matched_count}, modified: {updateOneResult.modified_count}\"\n",
        ")\n",
        "print(\n",
        "    f\"matched: {updateManyResult.matched_count}, modified: {updateManyResult.modified_count}\"\n",
        ")"
      ]
    },
    {
      "cell_type": "markdown",
      "id": "b4c0eff5",
      "metadata": {},
      "source": [
        "### Upsert option\n",
        "\n",
        "If you set the `upsert` to `True` in update operation, inserts a new document if no document matches the query filter.\n",
        "\n",
        "- `source_query_filter` : find all documents with the value `facebook` in the `metadata.source` field.\n",
        "\n",
        "- `upsert_operation` : updates `facebook` in the document's `metadata.source` to `book` .\n"
      ]
    },
    {
      "cell_type": "code",
      "execution_count": 38,
      "id": "63b194bd",
      "metadata": {},
      "outputs": [
        {
          "name": "stdout",
          "output_type": "stream",
          "text": [
            "matched: 0, modified: 0, upserted_id: 678da1104352fdc7a3be6a31\n"
          ]
        }
      ],
      "source": [
        "source_query_filter = {\"metadata.source\": \"facebook\"}\n",
        "upsert_operation = {\"$set\": {\"metadata.source\": \"book\"}}\n",
        "upsertResult = collection.update_many(\n",
        "    source_query_filter, upsert_operation, upsert=True\n",
        ")\n",
        "print(\n",
        "    f\"matched: {upsertResult.matched_count}, modified: {upsertResult.modified_count}, upserted_id: {upsertResult.upserted_id}\"\n",
        ")"
      ]
    },
    {
      "cell_type": "markdown",
      "id": "18db1ace",
      "metadata": {},
      "source": [
        "### Delete with query filter\n",
        "\n",
        "- `delete_one` : deletes the first document that matches the condition.\n",
        "\n",
        "- `delete_many` : deletes all documents that match the condition.\n",
        "\n",
        "`delete_one` and `delete_many` return `DeleteResult` object.\n",
        "\n",
        "- `deleted_count` : The number of documents deleted.\n"
      ]
    },
    {
      "cell_type": "code",
      "execution_count": 39,
      "id": "fca680db",
      "metadata": {},
      "outputs": [
        {
          "name": "stdout",
          "output_type": "stream",
          "text": [
            "delete_one deleted: 1, delete_many deleted: 18\n"
          ]
        }
      ],
      "source": [
        "deleteOneResult = collection.delete_one(\n",
        "    fox_query_filter, comment=\"Deleting the first document containing fox\"\n",
        ")\n",
        "deleteManyResult = collection.delete_many(\n",
        "    fox_query_filter, comment=\"Deleting the documents containing fox\"\n",
        ")\n",
        "\n",
        "print(\n",
        "    f\"delete_one deleted: {deleteOneResult.deleted_count}, delete_many deleted: {deleteManyResult.deleted_count}\"\n",
        ")"
      ]
    }
  ],
  "metadata": {
    "kernelspec": {
      "display_name": "venv",
      "language": "python",
      "name": ".venv"
    },
    "language_info": {
      "codemirror_mode": {
        "name": "ipython",
        "version": 3
      },
      "file_extension": ".py",
      "mimetype": "text/x-python",
      "name": "python",
      "nbconvert_exporter": "python",
      "pygments_lexer": "ipython3",
      "version": "3.12.4"
    }
  },
  "nbformat": 4,
  "nbformat_minor": 5
}
