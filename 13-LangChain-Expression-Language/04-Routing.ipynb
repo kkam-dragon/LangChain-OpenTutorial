{
  "cells": [
    {
      "cell_type": "markdown",
      "metadata": {},
      "source": [
        "# Routing\n",
        "\n",
        "- Author: [Jinu Cho](https://github.com/jinucho)\n",
        "- Peer Review: \n",
        "- Proofread:\n",
        "- This is a part of [LangChain Open Tutorial](https://github.com/LangChain-OpenTutorial/LangChain-OpenTutorial)\n",
        "\n",
        "[![Open in Colab](https://colab.research.google.com/assets/colab-badge.svg)](https://colab.research.google.com/github/LangChain-OpenTutorial/LangChain-OpenTutorial/blob/main/05-Memory/06-ConversationSummaryMemory.ipynb) [![Open in GitHub](https://img.shields.io/badge/Open%20in%20GitHub-181717?style=flat-square&logo=github&logoColor=white)](https://github.com/LangChain-OpenTutorial/LangChain-OpenTutorial/blob/main/05-Memory/06-ConversationSummaryMemory.ipynb)\n",
        "\n",
        "## Overview\n",
        "\n",
        "This tutorial introduces `RunnableBranch` and `RunnableLambda`, two key tools in LangChain for implementing dynamic workflows and conditional logic.\n",
        "\n",
        "`RunnableBranch` enables structured decision-making by routing input through predefined conditions, making complex branching scenarios easier to manage.\n",
        "\n",
        "`RunnableLambda` offers a flexible, function-based approach, ideal for performing lightweight transformations and inline processing.\n",
        "\n",
        "Through detailed explanations, practical examples, and comparisons, you'll gain a clear understanding of when and how to use each tool effectively.\n",
        "\n",
        "### Table of Contents\n",
        "\n",
        "- [Overview](#overview)\n",
        "- [Environment Setup](#environment-setup)\n",
        "- [What is the RunnableBranch](#what-is-the-runnablebranch)\n",
        "- [RunnableLambda](#RunnableLambda)\n",
        "- [RunnableBranch](#RunnableBranch)\n",
        "- [Comparison of RunnableBranch and RunnableLambda](#comparison-of-runnablebranch-and-runnablelambda)\n",
        "\n",
        "\n",
        "### References  \n",
        "- [RunnableBranch API Reference](https://python.langchain.com/api_reference/core/runnables/langchain_core.runnables.branch.RunnableBranch.html)  \n",
        "- [RunnableLambda API Reference](https://python.langchain.com/api_reference/core/runnables/langchain_core.runnables.base.RunnableLambda.html)  \n",
        "---"
      ]
    },
    {
      "cell_type": "markdown",
      "metadata": {},
      "source": [
        "## Environment Setup\n",
        "\n",
        "Set up the environment. You may refer to [Environment Setup](https://wikidocs.net/257836) for more details.\n",
        "\n",
        "[Note]\n",
        "- `langchain-opentutorial` is a package that provides a set of easy-to-use environment setup, useful functions and utilities for tutorials. \n",
        "- You can checkout the [`langchain-opentutorial`](https://github.com/LangChain-OpenTutorial/langchain-opentutorial-pypi) for more details."
      ]
    },
    {
      "cell_type": "code",
      "execution_count": 1,
      "metadata": {},
      "outputs": [],
      "source": [
        "%%capture --no-stderr\n",
        "%pip install langchain-opentutorial"
      ]
    },
    {
      "cell_type": "code",
      "execution_count": 2,
      "metadata": {},
      "outputs": [],
      "source": [
        "# Install required packages\n",
        "from langchain_opentutorial import package\n",
        "\n",
        "package.install(\n",
        "    [\n",
        "        \"langsmith\",\n",
        "        \"langchain\",\n",
        "        \"langchain_openai\",\n",
        "    ],\n",
        "    verbose=False,\n",
        "    upgrade=False,\n",
        ")"
      ]
    },
    {
      "cell_type": "markdown",
      "metadata": {},
      "source": [
        "Alternatively, you can set and load `OPENAI_API_KEY` from a `.env` file.\n",
        "\n",
        "**[Note]** This is only necessary if you haven't already set `OPENAI_API_KEY` in previous steps."
      ]
    },
    {
      "cell_type": "code",
      "execution_count": 3,
      "metadata": {},
      "outputs": [
        {
          "name": "stdout",
          "output_type": "stream",
          "text": [
            "Environment variables have been set successfully.\n"
          ]
        }
      ],
      "source": [
        "# Set environment variables\n",
        "from langchain_opentutorial import set_env\n",
        "\n",
        "set_env(\n",
        "    {\n",
        "        \"OPENAI_API_KEY\": \"\",\n",
        "        \"LANGCHAIN_API_KEY\": \"\",\n",
        "        \"LANGCHAIN_TRACING_V2\": \"true\",\n",
        "        \"LANGCHAIN_ENDPOINT\": \"https://api.smith.langchain.com\",\n",
        "        \"LANGCHAIN_PROJECT\": \"04-Routing\",\n",
        "    }\n",
        ")"
      ]
    },
    {
      "cell_type": "code",
      "execution_count": 4,
      "metadata": {},
      "outputs": [
        {
          "data": {
            "text/plain": [
              "True"
            ]
          },
          "execution_count": 4,
          "metadata": {},
          "output_type": "execute_result"
        }
      ],
      "source": [
        "# Load environment variables\n",
        "# Reload any variables that need to be overwritten from the previous cell\n",
        "\n",
        "from dotenv import load_dotenv\n",
        "\n",
        "load_dotenv(override=True)"
      ]
    },
    {
      "cell_type": "markdown",
      "metadata": {},
      "source": [
        "## What is the ```RunnableBranch```\n",
        "\n",
        "```RunnableBranch``` dynamically routes logic based on input. It allows developers to define different processing paths depending on the characteristics of the input data.  \n",
        "\n",
        "```RunnableBranch``` simplifies the implementation of complex decision trees in a simple and more intuitive way. This improves code readability and maintainability while promoting modularization and reusability of logic.  \n",
        "\n",
        "Additionally, ```RunnableBranch``` dynamically evaluates branching conditions at runtime. This enables it to select the appropriate processing routine, which enhances the system's adaptability and scalability.  \n",
        "\n",
        "Thanks to these features, ```RunnableBranch``` is applicable across various domains and is particularly useful for developing applications that handle highly variable and volatile input data.\n",
        "\n",
        "By effectively utilizing ```RunnableBranch```, developers can reduce code complexity while improving both system flexibility and performance.\n",
        "\n",
        "### Dynamic Logic Routing Based on Input\n",
        "\n",
        "This section covers how to perform routing within LangChain Expression Language (LCEL).\n",
        "\n",
        "Routing enables the creation of non-deterministic chains, where the output of a previous step determines the next step. This brings core structure and consistency to interactions with LLMs.\n",
        "\n",
        "There are two primary methods available for implementing routing:\n",
        "\n",
        "1. Returning a conditionally executable object from ```RunnableLambda``` (*Recommended*).\n",
        "2. Using ```RunnableBranch```.\n",
        "\n",
        "Both of these methods can be explained using a two-step sequence: first, classifying the input question into a category (math, science, or other), and second, routing the question to the corresponding prompt chain based on the category."
      ]
    },
    {
      "cell_type": "markdown",
      "metadata": {},
      "source": [
        "### Simple Example\n",
        "\n",
        "Firstly, we will create a chain that classifies incoming questions into one of three categories: math, science, or other."
      ]
    },
    {
      "cell_type": "code",
      "execution_count": 5,
      "metadata": {},
      "outputs": [],
      "source": [
        "from langchain_openai import ChatOpenAI\n",
        "from langchain_core.output_parsers import StrOutputParser\n",
        "from langchain_core.prompts import PromptTemplate\n",
        "\n",
        "prompt = PromptTemplate.from_template(\n",
        "    \"\"\"Classify the given user question into one of `math`, `science`, or `other`. Do not respond with more than one word.\n",
        "\n",
        "<question>\n",
        "{question}\n",
        "</question>\n",
        "\n",
        "Classification:\"\"\"\n",
        ")\n",
        "\n",
        "# Create the chain.\n",
        "chain = (\n",
        "    prompt\n",
        "    | ChatOpenAI(model=\"gpt-4o-mini\")\n",
        "    | StrOutputParser()  # Use a string output parser.\n",
        ")"
      ]
    },
    {
      "cell_type": "markdown",
      "metadata": {},
      "source": [
        "After creating the chain, use it to classify a test question and verify the result."
      ]
    },
    {
      "cell_type": "code",
      "execution_count": 6,
      "metadata": {},
      "outputs": [
        {
          "data": {
            "text/plain": [
              "'math'"
            ]
          },
          "execution_count": 6,
          "metadata": {},
          "output_type": "execute_result"
        }
      ],
      "source": [
        "# Invoke the chain with a question.\n",
        "chain.invoke({\"question\": \"What is 2+2?\"})"
      ]
    },
    {
      "cell_type": "code",
      "execution_count": 7,
      "metadata": {},
      "outputs": [
        {
          "data": {
            "text/plain": [
              "'science'"
            ]
          },
          "execution_count": 7,
          "metadata": {},
          "output_type": "execute_result"
        }
      ],
      "source": [
        "# Invoke the chain with a question.\n",
        "chain.invoke({\"question\": \"What is the law of action and reaction?\"})"
      ]
    },
    {
      "cell_type": "code",
      "execution_count": 8,
      "metadata": {},
      "outputs": [
        {
          "data": {
            "text/plain": [
              "'other'"
            ]
          },
          "execution_count": 8,
          "metadata": {},
          "output_type": "execute_result"
        }
      ],
      "source": [
        "# Invoke the chain with a question.\n",
        "chain.invoke({\"question\": \"What is LangChain?\"})"
      ]
    },
    {
      "cell_type": "markdown",
      "metadata": {},
      "source": [
        "## ```RunnableLambda```  \n",
        "\n",
        "```RunnableLambda``` is a type of runnable designed to simplify the execution of a single transformation or operation using a lambda (anonymous) function. \n",
        "\n",
        "It is primarily used for lightweight, stateless operations where defining an entire custom Runnable class would be overkill.  \n",
        "\n",
        "Unlike ```RunnableBranch```, which focuses on conditional branching logic, ```RunnableLambda``` excels in straightforward data transformations or function applications.\n",
        "\n",
        "Syntax  \n",
        "- ```RunnableLambda``` is initialized with a single lambda function or callable object.  \n",
        "- When invoked, the input value is passed directly to the lambda function.  \n",
        "- The lambda function processes the input and returns the result.  "
      ]
    },
    {
      "cell_type": "markdown",
      "metadata": {},
      "source": [
        "Now, let's create three sub-chains."
      ]
    },
    {
      "cell_type": "code",
      "execution_count": 9,
      "metadata": {},
      "outputs": [],
      "source": [
        "math_chain = (\n",
        "    PromptTemplate.from_template(\n",
        "        \"\"\"You are an expert in math. \\\n",
        "Always answer questions starting with \"Pythagoras once said...\". \\\n",
        "Respond to the following question:\n",
        "\n",
        "Question: {question}\n",
        "Answer:\"\"\"\n",
        "    )\n",
        "    | ChatOpenAI(model=\"gpt-4o-mini\")\n",
        ")\n",
        "\n",
        "science_chain = (\n",
        "    PromptTemplate.from_template(\n",
        "        \"\"\"You are an expert in science. \\\n",
        "Always answer questions starting with \"Isaac Newton once said...\". \\\n",
        "Respond to the following question:\n",
        "\n",
        "Question: {question}\n",
        "Answer:\"\"\"\n",
        "    )\n",
        "    | ChatOpenAI(model=\"gpt-4o-mini\")\n",
        ")\n",
        "\n",
        "general_chain = (\n",
        "    PromptTemplate.from_template(\n",
        "        \"\"\"Respond to the following question concisely:\n",
        "\n",
        "Question: {question}\n",
        "Answer:\"\"\"\n",
        "    )\n",
        "    | ChatOpenAI(model=\"gpt-4o-mini\")\n",
        ")"
      ]
    },
    {
      "cell_type": "markdown",
      "metadata": {},
      "source": [
        "### Using Custom Functions  \n",
        "\n",
        "This is the recommended approach in the official LangChain documentation. You can wrap custom functions with `RunnableLambda` to handle routing between different outputs."
      ]
    },
    {
      "cell_type": "code",
      "execution_count": 10,
      "metadata": {},
      "outputs": [],
      "source": [
        "# Return each chain based on the contents included in the topic.\n",
        "\n",
        "\n",
        "def route(info):\n",
        "    if \"math\" in info[\"topic\"].lower():\n",
        "        return math_chain\n",
        "    elif \"science\" in info[\"topic\"].lower():\n",
        "        return science_chain\n",
        "    else:\n",
        "        return general_chain"
      ]
    },
    {
      "cell_type": "code",
      "execution_count": 11,
      "metadata": {},
      "outputs": [],
      "source": [
        "from operator import itemgetter\n",
        "from langchain_core.runnables import RunnableLambda\n",
        "\n",
        "full_chain = (\n",
        "    {\"topic\": chain, \"question\": itemgetter(\"question\")}\n",
        "    | RunnableLambda(\n",
        "        # Pass the routing function as an argument.\n",
        "        route\n",
        "    )\n",
        "    | StrOutputParser()\n",
        ")"
      ]
    },
    {
      "cell_type": "code",
      "execution_count": 12,
      "metadata": {},
      "outputs": [
        {
          "data": {
            "text/plain": [
              "'Pythagoras once said, \"The study of mathematics is the study of the universe.\" Calculus, much like the harmony found in geometric shapes, is a branch of mathematics that focuses on change and motion. It is fundamentally divided into two main concepts: differentiation and integration.\\n\\nDifferentiation deals with the idea of rates of change, allowing us to understand how a function behaves as its input changes. It helps us determine slopes of curves at given points, providing insight into how quantities vary.\\n\\nIntegration, on the other hand, is concerned with the accumulation of quantities, such as areas under curves. It allows us to sum up infinitely small pieces to find total quantities, providing a way to calculate things like distances traveled over time.\\n\\nTogether, these concepts enable us to analyze complex systems in fields ranging from physics to economics, illustrating how the world evolves and changes. In essence, calculus is a powerful tool that helps us grasp the continuous nature of change in our universe.'"
            ]
          },
          "execution_count": 12,
          "metadata": {},
          "output_type": "execute_result"
        }
      ],
      "source": [
        "# Invoke the chain with a math-related question.\n",
        "full_chain.invoke({\"question\": \"Please explain the concept of calculus.\"})"
      ]
    },
    {
      "cell_type": "code",
      "execution_count": 13,
      "metadata": {},
      "outputs": [
        {
          "data": {
            "text/plain": [
              "'Isaac Newton once said, \"What goes up must come down,\" highlighting the fundamental principle of gravity. Gravitational acceleration is calculated using the formula \\\\( g = \\\\frac{F}{m} \\\\), where \\\\( F \\\\) is the force of gravity acting on an object and \\\\( m \\\\) is the mass of that object. In a more specific context, near the surface of the Earth, gravitational acceleration can also be approximated using the formula \\\\( g = \\\\frac{G \\\\cdot M}{r^2} \\\\), where \\\\( G \\\\) is the gravitational constant, \\\\( M \\\\) is the mass of the Earth, and \\\\( r \\\\) is the distance from the center of the Earth to the object. This results in a standard gravitational acceleration of approximately \\\\( 9.81 \\\\, \\\\text{m/s}^2 \\\\).'"
            ]
          },
          "execution_count": 13,
          "metadata": {},
          "output_type": "execute_result"
        }
      ],
      "source": [
        "# Invoke the chain with a science-related question.\n",
        "full_chain.invoke({\"question\": \"How is gravitational acceleration calculated?\"})"
      ]
    },
    {
      "cell_type": "code",
      "execution_count": 14,
      "metadata": {},
      "outputs": [
        {
          "data": {
            "text/plain": [
              "'Retrieval Augmented Generation (RAG) is a machine learning approach that combines retrieval-based methods with generative models. It retrieves relevant information from a knowledge base or document corpus to enhance the context for generating responses, enabling the model to produce more accurate and informative outputs by leveraging external data.'"
            ]
          },
          "execution_count": 14,
          "metadata": {},
          "output_type": "execute_result"
        }
      ],
      "source": [
        "# Invoke the chain with a general question.\n",
        "full_chain.invoke({\"question\": \"What is RAG (Retrieval Augmented Generation)?\"})"
      ]
    },
    {
      "cell_type": "markdown",
      "metadata": {},
      "source": [
        "## ```RunnableBranch```\n",
        "\n",
        "```RunnableBranch``` is a specialized Runnable designed for defining conditions and the corresponding Runnable objects based on input values.\n",
        "\n",
        "However, it does not provide any functionality achievable with custom functions. So, using custom functions is often preferred.\n",
        "\n",
        "**Syntax**\n",
        "\n",
        "- ```RunnableBranch``` is initialized with a list of **(condition, Runnable)** pairs and a default Runnable.\n",
        "- When ```RunnableBranch``` is invoked, the input value is sequentially passed to each condition.\n",
        "- The first condition that evaluates to True determins which Runnable is executed with the input.\n",
        "- If none of conditions evaluate to True, the **default Runnable** is executed."
      ]
    },
    {
      "cell_type": "code",
      "execution_count": 15,
      "metadata": {},
      "outputs": [],
      "source": [
        "from operator import itemgetter\n",
        "from langchain_core.runnables import RunnableBranch\n",
        "\n",
        "branch = RunnableBranch(\n",
        "    # Check if the topic contains \"math\" and execute math_chain if true.\n",
        "    (lambda x: \"math\" in x[\"topic\"].lower(), math_chain),\n",
        "    # Check if the topic contains \"science\" and execute science_chain if true.\n",
        "    (lambda x: \"science\" in x[\"topic\"].lower(), science_chain),\n",
        "    # If none of the above conditions match, execute general_chain.\n",
        "    general_chain,\n",
        ")\n",
        "\n",
        "# Define the full chain that takes a topic and question, routes it, and parses the output.\n",
        "full_chain = (\n",
        "    {\"topic\": chain, \"question\": itemgetter(\"question\")} | branch | StrOutputParser()\n",
        ")"
      ]
    },
    {
      "cell_type": "markdown",
      "metadata": {},
      "source": [
        "Let's execute the full chain with each question."
      ]
    },
    {
      "cell_type": "code",
      "execution_count": 16,
      "metadata": {},
      "outputs": [
        {
          "data": {
            "text/plain": [
              "'Pythagoras once said, \"To understand the world, we must first understand the relationships between its parts.\" Calculus is a branch of mathematics that focuses on change and motion, allowing us to analyze how quantities vary. It is fundamentally divided into two main areas: differential calculus, which deals with the concept of the derivative and how functions change at any given point, and integral calculus, which concerns the accumulation of quantities and the area under curves.\\n\\nThrough the tools of limits, derivatives, and integrals, calculus provides powerful methods for solving problems in physics, engineering, economics, and many other fields. It helps us understand everything from the motion of planets to the growth of populations, emphasizing the continuous nature of change in our universe.'"
            ]
          },
          "execution_count": 16,
          "metadata": {},
          "output_type": "execute_result"
        }
      ],
      "source": [
        "full_chain.invoke({\"question\": \"Please explain the concept of calculus.\"})"
      ]
    },
    {
      "cell_type": "code",
      "execution_count": 17,
      "metadata": {},
      "outputs": [
        {
          "data": {
            "text/plain": [
              "'Isaac Newton once said, \"What goes up must come down,\" reflecting his profound understanding of gravity. Gravitational acceleration, often denoted as \\\\( g \\\\), is calculated using the formula:\\n\\n\\\\[\\ng = \\\\frac{G \\\\cdot M}{r^2}\\n\\\\]\\n\\nwhere \\\\( G \\\\) is the gravitational constant (approximately \\\\( 6.674 \\\\times 10^{-11} \\\\, \\\\text{m}^3 \\\\text{kg}^{-1} \\\\text{s}^{-2} \\\\)), \\\\( M \\\\) is the mass of the object exerting the gravitational force (like the Earth), and \\\\( r \\\\) is the distance from the center of that mass to the point where the gravitational acceleration is being calculated. Near the Earth\\'s surface, this value is approximately \\\\( 9.81 \\\\, \\\\text{m/s}^2 \\\\).'"
            ]
          },
          "execution_count": 17,
          "metadata": {},
          "output_type": "execute_result"
        }
      ],
      "source": [
        "full_chain.invoke({\"question\": \"How is gravitational acceleration calculated?\"})"
      ]
    },
    {
      "cell_type": "code",
      "execution_count": 18,
      "metadata": {},
      "outputs": [
        {
          "data": {
            "text/plain": [
              "'Retrieval Augmented Generation (RAG) is a framework that combines retrieval-based and generation-based approaches in natural language processing. It retrieves relevant documents or information from a knowledge base and uses that information to enhance the generation of responses or text, improving the accuracy and relevance of the output. RAG is particularly useful in tasks like question answering and conversational agents.'"
            ]
          },
          "execution_count": 18,
          "metadata": {},
          "output_type": "execute_result"
        }
      ],
      "source": [
        "full_chain.invoke({\"question\": \"What is RAG (Retrieval Augmented Generation)?\"})"
      ]
    },
    {
      "cell_type": "markdown",
      "metadata": {},
      "source": [
        "## Comparison of ```RunnableBranch``` and ```RunnableLambda```\n",
        "\n",
        "| Criteria    | ```RunnableLambda```                               | ```RunnableBranch```                        |  \n",
        "|------------------|--------------------------------------------------|-------------------------------------------|  \n",
        "| Condition Definition | All conditions are defined within a single function (`route`). | Each condition is defined as a **(condition, Runnable)** pair. |  \n",
        "| Readability | Very clear for simple logic.                      | Becomes clearer as the number of conditions increases.    |  \n",
        "| Maintainability | Can become complex to maintain if the function grows large.  | Provides a clear separation between conditions and their corresponding Runnables. |  \n",
        "| Flexibility | Allows more flexibility in how conditions are written.           | Requires adherence to the **(condition, Runnable)** pattern. |  \n",
        "| Scalability | Involves modifying the existing function.             | Requires adding new **(condition, Runnable)** pairs. |  \n",
        "| Recommended Use Case | When conditions are relatively simple or primarily function-based transformations. | When dealing with many conditions or when maintainability is a primary concern. |  "
      ]
    }
  ],
  "metadata": {
    "kernelspec": {
      "display_name": "langchain-opentutorial-BpEVOGYk-py3.11",
      "language": "python",
      "name": "python3"
    },
    "language_info": {
      "codemirror_mode": {
        "name": "ipython",
        "version": 3
      },
      "file_extension": ".py",
      "mimetype": "text/x-python",
      "name": "python",
      "nbconvert_exporter": "python",
      "pygments_lexer": "ipython3",
      "version": "3.11.3"
    }
  },
  "nbformat": 4,
  "nbformat_minor": 2
}
